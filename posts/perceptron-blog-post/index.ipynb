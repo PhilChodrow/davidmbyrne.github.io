{
 "cells": [
  {
   "cell_type": "raw",
   "id": "adadd445-7044-417e-be82-0cd643051bca",
   "metadata": {},
   "source": [
    "---\n",
    "title: Perceptron Algorithm\n",
    "author: David Byrne\n",
    "date: '2023-03-09'\n",
    "image: \"image.jpg\"\n",
    "description: \"Perceptron Blog Post\"\n",
    "format: html\n",
    "---"
   ]
  },
  {
   "cell_type": "code",
   "execution_count": 4,
   "id": "fb39b291-0e53-467e-b978-ebab18339015",
   "metadata": {},
   "outputs": [],
   "source": [
    "from perceptron import Perceptron"
   ]
  },
  {
   "cell_type": "markdown",
   "id": "608c735e-9742-4f3d-bd7f-9ce3a2558ddb",
   "metadata": {},
   "source": [
    "We are looking at the perceptron algorithm in this post, understanding how it operates and converges, and observing some use cases.\n",
    "\n",
    "# Looking at Source Code\n"
   ]
  }
 ],
 "metadata": {
  "kernelspec": {
   "display_name": "Python 3 (ipykernel)",
   "language": "python",
   "name": "python3"
  },
  "language_info": {
   "codemirror_mode": {
    "name": "ipython",
    "version": 3
   },
   "file_extension": ".py",
   "mimetype": "text/x-python",
   "name": "python",
   "nbconvert_exporter": "python",
   "pygments_lexer": "ipython3",
   "version": "3.9.12"
  }
 },
 "nbformat": 4,
 "nbformat_minor": 5
}
